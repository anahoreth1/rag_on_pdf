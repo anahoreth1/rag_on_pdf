{
 "cells": [
  {
   "cell_type": "markdown",
   "id": "bb6ea7b3",
   "metadata": {},
   "source": [
    "# Config"
   ]
  },
  {
   "cell_type": "code",
   "execution_count": 1,
   "id": "8fed77c8",
   "metadata": {},
   "outputs": [],
   "source": [
    "# import src modules\n",
    "import sys\n",
    "import os\n",
    "\n",
    "sys.path.append(os.path.abspath(\"../src\"))"
   ]
  },
  {
   "cell_type": "markdown",
   "id": "37d4d284",
   "metadata": {},
   "source": [
    "# Generate Test Dataset"
   ]
  },
  {
   "cell_type": "code",
   "execution_count": 2,
   "id": "a6e9073a",
   "metadata": {},
   "outputs": [
    {
     "name": "stderr",
     "output_type": "stream",
     "text": [
      "/Users/Raman.Bylina/my/programming/Test Tasks/ISI test/.venv/lib/python3.12/site-packages/tqdm/auto.py:21: TqdmWarning: IProgress not found. Please update jupyter and ipywidgets. See https://ipywidgets.readthedocs.io/en/stable/user_install.html\n",
      "  from .autonotebook import tqdm as notebook_tqdm\n"
     ]
    }
   ],
   "source": [
    "from test_dataset_generation import generate_test_dataset"
   ]
  },
  {
   "cell_type": "code",
   "execution_count": null,
   "id": "5bba93db",
   "metadata": {},
   "outputs": [],
   "source": [
    "generate_test_dataset()"
   ]
  },
  {
   "cell_type": "markdown",
   "id": "a0475951",
   "metadata": {},
   "source": [
    "# RAG System"
   ]
  },
  {
   "cell_type": "markdown",
   "id": "5bed5b84",
   "metadata": {},
   "source": [
    "## Create Faiss Index"
   ]
  },
  {
   "cell_type": "code",
   "execution_count": 32,
   "id": "17b0e9a1",
   "metadata": {},
   "outputs": [],
   "source": [
    "from faiss_index_creation import create_faiss_index"
   ]
  },
  {
   "cell_type": "code",
   "execution_count": 33,
   "id": "209ac81a",
   "metadata": {},
   "outputs": [
    {
     "name": "stdout",
     "output_type": "stream",
     "text": [
      "Total chunks: 132\n"
     ]
    },
    {
     "name": "stderr",
     "output_type": "stream",
     "text": [
      "Batches: 100%|██████████| 5/5 [00:00<00:00, 21.00it/s]"
     ]
    },
    {
     "name": "stdout",
     "output_type": "stream",
     "text": [
      "FAISS index built.\n"
     ]
    },
    {
     "name": "stderr",
     "output_type": "stream",
     "text": [
      "\n"
     ]
    }
   ],
   "source": [
    "create_faiss_index()"
   ]
  },
  {
   "cell_type": "markdown",
   "id": "bb53a584",
   "metadata": {},
   "source": [
    "## Model's Answers testing"
   ]
  },
  {
   "cell_type": "code",
   "execution_count": null,
   "id": "3aa7012f",
   "metadata": {},
   "outputs": [],
   "source": [
    "import faiss\n",
    "import google.generativeai as genai\n",
    "from sentence_transformers import SentenceTransformer\n",
    "\n",
    "from consts import *\n",
    "from model_answering import answer_with_model\n",
    "from private_consts import GEMINI_API_KEY"
   ]
  },
  {
   "cell_type": "code",
   "execution_count": null,
   "id": "f95e247d",
   "metadata": {},
   "outputs": [],
   "source": [
    "# define models\n",
    "genai.configure(api_key=GEMINI_API_KEY)\n",
    "answering_model = genai.GenerativeModel(MODEL_NAME)\n",
    "st_model = SentenceTransformer(EMBEDDING_MODEL_NAME)\n",
    "\n",
    "# read saved data\n",
    "index = faiss.read_index(DATA_FAISS_INDEX)\n",
    "with open(DATA_CHUNKS_METADATA, \"r\", encoding=\"utf-8\") as f:\n",
    "    metadata = [line.strip() for line in f]\n",
    "with open(DATA_CHUNKS_TEXT, \"r\", encoding=\"utf-8\") as f:\n",
    "    chunks = [line.strip() for line in f]"
   ]
  },
  {
   "cell_type": "code",
   "execution_count": 6,
   "id": "8e72644f",
   "metadata": {},
   "outputs": [
    {
     "data": {
      "text/html": [
       "<div>\n",
       "<style scoped>\n",
       "    .dataframe tbody tr th:only-of-type {\n",
       "        vertical-align: middle;\n",
       "    }\n",
       "\n",
       "    .dataframe tbody tr th {\n",
       "        vertical-align: top;\n",
       "    }\n",
       "\n",
       "    .dataframe thead th {\n",
       "        text-align: right;\n",
       "    }\n",
       "</style>\n",
       "<table border=\"1\" class=\"dataframe\">\n",
       "  <thead>\n",
       "    <tr style=\"text-align: right;\">\n",
       "      <th></th>\n",
       "      <th>question</th>\n",
       "      <th>answer</th>\n",
       "      <th>chunk_id</th>\n",
       "      <th>pdf_name</th>\n",
       "    </tr>\n",
       "  </thead>\n",
       "  <tbody>\n",
       "    <tr>\n",
       "      <th>0</th>\n",
       "      <td>What percentage of policyholders are dissatisf...</td>\n",
       "      <td>55%</td>\n",
       "      <td>0</td>\n",
       "      <td>0a7bc290-5559-4b68-bd36-6d5834c8363a.pdf</td>\n",
       "    </tr>\n",
       "    <tr>\n",
       "      <th>1</th>\n",
       "      <td>What percentage of life insurers are focusing ...</td>\n",
       "      <td>34%</td>\n",
       "      <td>0</td>\n",
       "      <td>0a7bc290-5559-4b68-bd36-6d5834c8363a.pdf</td>\n",
       "    </tr>\n",
       "    <tr>\n",
       "      <th>2</th>\n",
       "      <td>What percentage of EMEA life and health insure...</td>\n",
       "      <td>80%</td>\n",
       "      <td>0</td>\n",
       "      <td>0a7bc290-5559-4b68-bd36-6d5834c8363a.pdf</td>\n",
       "    </tr>\n",
       "    <tr>\n",
       "      <th>3</th>\n",
       "      <td>What percentage of life insurers have earned b...</td>\n",
       "      <td>5%</td>\n",
       "      <td>0</td>\n",
       "      <td>0a7bc290-5559-4b68-bd36-6d5834c8363a.pdf</td>\n",
       "    </tr>\n",
       "  </tbody>\n",
       "</table>\n",
       "</div>"
      ],
      "text/plain": [
       "                                            question answer  chunk_id  \\\n",
       "0  What percentage of policyholders are dissatisf...    55%         0   \n",
       "1  What percentage of life insurers are focusing ...    34%         0   \n",
       "2  What percentage of EMEA life and health insure...    80%         0   \n",
       "3  What percentage of life insurers have earned b...     5%         0   \n",
       "\n",
       "                                   pdf_name  \n",
       "0  0a7bc290-5559-4b68-bd36-6d5834c8363a.pdf  \n",
       "1  0a7bc290-5559-4b68-bd36-6d5834c8363a.pdf  \n",
       "2  0a7bc290-5559-4b68-bd36-6d5834c8363a.pdf  \n",
       "3  0a7bc290-5559-4b68-bd36-6d5834c8363a.pdf  "
      ]
     },
     "execution_count": 6,
     "metadata": {},
     "output_type": "execute_result"
    }
   ],
   "source": [
    "import pandas as pd\n",
    "test_data = pd.read_csv(TEST_DATA_CSV)\n",
    "test_data.head()"
   ]
  },
  {
   "cell_type": "code",
   "execution_count": 7,
   "id": "a193bd79",
   "metadata": {},
   "outputs": [
    {
     "name": "stdout",
     "output_type": "stream",
     "text": [
      "model_answer: `55% of policyholders are dissatisfied with claims and surrenders.`, expected answer: `55%`\n",
      "model_answer: `34% of life insurers are focusing on AI-driven self-service tools.`, expected answer: `34%`\n",
      "model_answer: `The context states that EMEA ranked customer engagement, onboarding, and marketing as a top-three impact area of Gen AI. The exact percentage is not provided in the given context.`, expected answer: `80%`\n",
      "model_answer: `5%`, expected answer: `5%`\n"
     ]
    }
   ],
   "source": [
    "for row in test_data.itertuples(index=False):\n",
    "    model_answer = answer_with_model(row.question, st_model, index, chunks, metadata, answering_model)\n",
    "    print(f'model_answer: `{model_answer}`, expected answer: `{row.answer}`')"
   ]
  },
  {
   "cell_type": "code",
   "execution_count": null,
   "id": "d78562b0",
   "metadata": {},
   "outputs": [],
   "source": []
  }
 ],
 "metadata": {
  "kernelspec": {
   "display_name": ".venv",
   "language": "python",
   "name": "python3"
  },
  "language_info": {
   "codemirror_mode": {
    "name": "ipython",
    "version": 3
   },
   "file_extension": ".py",
   "mimetype": "text/x-python",
   "name": "python",
   "nbconvert_exporter": "python",
   "pygments_lexer": "ipython3",
   "version": "3.12.11"
  }
 },
 "nbformat": 4,
 "nbformat_minor": 5
}
