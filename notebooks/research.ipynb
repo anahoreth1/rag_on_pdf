{
 "cells": [
  {
   "cell_type": "markdown",
   "id": "bb6ea7b3",
   "metadata": {},
   "source": [
    "# Config"
   ]
  },
  {
   "cell_type": "code",
   "execution_count": null,
   "id": "8fed77c8",
   "metadata": {},
   "outputs": [],
   "source": [
    "# import src modules\n",
    "import sys\n",
    "import os\n",
    "\n",
    "sys.path.append(os.path.abspath(\"../src\"))"
   ]
  },
  {
   "cell_type": "markdown",
   "id": "37d4d284",
   "metadata": {},
   "source": [
    "# 1. Generate Test Dataset"
   ]
  },
  {
   "cell_type": "code",
   "execution_count": null,
   "id": "a6e9073a",
   "metadata": {},
   "outputs": [],
   "source": [
    "from test_dataset_generation import generate_test_dataset"
   ]
  },
  {
   "cell_type": "code",
   "execution_count": null,
   "id": "5bba93db",
   "metadata": {},
   "outputs": [],
   "source": [
    "generate_test_dataset()"
   ]
  },
  {
   "cell_type": "markdown",
   "id": "a0475951",
   "metadata": {},
   "source": [
    "# 2. RAG System"
   ]
  },
  {
   "cell_type": "markdown",
   "id": "754ee97c",
   "metadata": {},
   "source": []
  }
 ],
 "metadata": {
  "kernelspec": {
   "display_name": ".venv",
   "language": "python",
   "name": "python3"
  },
  "language_info": {
   "codemirror_mode": {
    "name": "ipython",
    "version": 3
   },
   "file_extension": ".py",
   "mimetype": "text/x-python",
   "name": "python",
   "nbconvert_exporter": "python",
   "pygments_lexer": "ipython3",
   "version": "3.12.11"
  }
 },
 "nbformat": 4,
 "nbformat_minor": 5
}
